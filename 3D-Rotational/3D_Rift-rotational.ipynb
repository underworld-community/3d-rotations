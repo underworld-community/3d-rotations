{
 "cells": [
  {
   "cell_type": "markdown",
   "metadata": {},
   "source": [
    "# 3D Lithospheric Model Rotational"
   ]
  },
  {
   "cell_type": "markdown",
   "metadata": {},
   "source": [
    "romain.beucher@unimelb.edu.au\n",
    "\n",
    "The Model is reproducing the setup of Mondy et al, 2018\n",
    "\n",
    "Mondy, Luke & Rey, Patrice & Duclaux, Guillaume & Moresi, Louis. (2018). The role of asthenospheric flow during rift propagation and breakup. Geology. 46. 103-106. 10.1130/G39674.1. \n",
    "\n",
    "\n",
    "The following Model has been tested on NCI Raijin and Pawsey Magnus with the following configurations:\n",
    "\n",
    "    - configuration A: (128 x 128 x 64 nodes) 128 CPUS\n",
    "    - configuration B: (256 x 256 x 96 nodes) 256 CPUS\n",
    "    \n",
    "The user should remove visualisation from the python script before running the model on raijin."
   ]
  },
  {
   "cell_type": "code",
   "execution_count": 1,
   "metadata": {},
   "outputs": [
    {
     "name": "stdout",
     "output_type": "stream",
     "text": [
      "loaded rc file /opt/UWGeodynamics/UWGeodynamics/uwgeo-data/uwgeodynamicsrc\n"
     ]
    }
   ],
   "source": [
    "import UWGeodynamics as GEO"
   ]
  },
  {
   "cell_type": "code",
   "execution_count": 2,
   "metadata": {},
   "outputs": [],
   "source": [
    "u = GEO.UnitRegistry"
   ]
  },
  {
   "cell_type": "code",
   "execution_count": 3,
   "metadata": {},
   "outputs": [],
   "source": [
    "characteristic_time = 1 * u.second\n",
    "characteristic_length = 1 * u.kilometer\n",
    "surfaceTemp = 273.15 * u.degK\n",
    "baseModelTemp = 1603.15 * u.degK\n",
    "characteristic_viscosity = 1e22 * u.pascal * u.second\n",
    "\n",
    "KL = characteristic_length\n",
    "Kt = characteristic_time\n",
    "KM = characteristic_viscosity * KL * Kt\n",
    "KT = (baseModelTemp - surfaceTemp)\n",
    "\n",
    "GEO.scaling_coefficients[\"[length]\"] = KL\n",
    "GEO.scaling_coefficients[\"[time]\"] = Kt\n",
    "GEO.scaling_coefficients[\"[mass]\"]= KM\n",
    "GEO.scaling_coefficients[\"[temperature]\"] = KT"
   ]
  },
  {
   "cell_type": "code",
   "execution_count": 4,
   "metadata": {},
   "outputs": [],
   "source": [
    "Model = GEO.Model(elementRes=(32, 32, 16), \n",
    "                  minCoord=(0. * u.kilometer, 0. * u.kilometer, -160. * u.kilometer), \n",
    "                  maxCoord=(500. * u.kilometer, 500. * u.kilometer, 20. * u.kilometer), \n",
    "                  gravity=(0.0, 0.0, -9.81 * u.meter / u.second**2))"
   ]
  },
  {
   "cell_type": "markdown",
   "metadata": {},
   "source": [
    "## Global definitions"
   ]
  },
  {
   "cell_type": "code",
   "execution_count": 5,
   "metadata": {},
   "outputs": [],
   "source": [
    "Model.outputDir=\"3D_Rift\""
   ]
  },
  {
   "cell_type": "code",
   "execution_count": 6,
   "metadata": {},
   "outputs": [],
   "source": [
    "Model.maxViscosity  = 5e23 * u.pascal * u.second\n",
    "Model.minViscosity  = 1e19 * u.pascal * u.second\n",
    "Model.stressLimiter = 300. * u.megapascal"
   ]
  },
  {
   "cell_type": "code",
   "execution_count": 7,
   "metadata": {},
   "outputs": [],
   "source": [
    "Model.diffusivity = 1e-6 * u.metre**2 / u.second \n",
    "Model.capacity    = 1000. * u.joule / (u.kelvin * u.kilogram)"
   ]
  },
  {
   "cell_type": "markdown",
   "metadata": {},
   "source": [
    "## Define Materials\n",
    "\n",
    "The model has initially 4 materials (air, crust, mantle lithosphere and mantle). We add a fifth material for the sediment. Sediment will only appear if surface processes are turned on...(and if there is sedimentation of course)"
   ]
  },
  {
   "cell_type": "code",
   "execution_count": 8,
   "metadata": {},
   "outputs": [],
   "source": [
    "air = Model.add_material(name=\"Air\", shape=GEO.shapes.Layer3D(top=Model.top, bottom=0 * u.kilometer))\n",
    "uppercrust = Model.add_material(name=\"UpperCrust\", shape=GEO.shapes.Layer3D(top=air.bottom, bottom=-20 * u.kilometer))\n",
    "lowercrust = Model.add_material(name=\"LowerCrust\", shape=GEO.shapes.Layer3D(top=uppercrust.bottom, bottom=-40 * u.kilometer))\n",
    "mantle = Model.add_material(name=\"Mantle\", shape=GEO.shapes.Layer3D(top=lowercrust.bottom, bottom=Model.bottom))"
   ]
  },
  {
   "cell_type": "markdown",
   "metadata": {},
   "source": [
    "### Material specific definitions\n"
   ]
  },
  {
   "cell_type": "code",
   "execution_count": 9,
   "metadata": {},
   "outputs": [],
   "source": [
    "air.density = 1. * u.kg / u.m**3\n",
    "uppercrust.density  = GEO.LinearDensity(reference_density=2800. * u.kilogram / u.metre**3)\n",
    "lowercrust.density  = GEO.LinearDensity(reference_density=2900. * u.kilogram / u.metre**3)\n",
    "mantle.density  = GEO.LinearDensity(reference_density=3300. * u.kilogram / u.metre**3)"
   ]
  },
  {
   "cell_type": "code",
   "execution_count": 10,
   "metadata": {},
   "outputs": [],
   "source": [
    "uppercrust.radiogenicHeatProd = 1.2 * u.microwatt / u.meter**3\n",
    "lowercrust.radiogenicHeatProd = 0.6 * u.microwatt / u.meter**3"
   ]
  },
  {
   "cell_type": "markdown",
   "metadata": {},
   "source": [
    "### Viscous Rheologies"
   ]
  },
  {
   "cell_type": "code",
   "execution_count": 11,
   "metadata": {},
   "outputs": [],
   "source": [
    "rh = GEO.ViscousCreepRegistry()"
   ]
  },
  {
   "cell_type": "code",
   "execution_count": 12,
   "metadata": {},
   "outputs": [],
   "source": [
    "air.viscosity                = 1e19 * u.pascal * u.second\n",
    "uppercrust.viscosity         = rh.Wet_Quartz_Dislocation_Paterson_and_Luan_1990\n",
    "lowercrust.viscosity         = rh.Dry_Mafic_Granulite_Dislocation_Wang_et_al_2012\n",
    "mantle.viscosity             = rh.Wet_Olivine_Dislocation_Hirth_and_Kohlstedt_2003"
   ]
  },
  {
   "cell_type": "markdown",
   "metadata": {},
   "source": [
    "### Plasticities\n",
    "\n",
    "We use a Drucker-Prager yield criterion with frictional weakening."
   ]
  },
  {
   "cell_type": "code",
   "execution_count": 13,
   "metadata": {},
   "outputs": [],
   "source": [
    "pl = GEO.PlasticityRegistry()"
   ]
  },
  {
   "cell_type": "code",
   "execution_count": 14,
   "metadata": {},
   "outputs": [],
   "source": [
    "uppercrust.plasticity = pl.Rey_and_Muller_2010_UpperCrust\n",
    "lowercrust.plasticity = pl.Rey_and_Muller_2010_LowerCrust\n",
    "mantle.plasticity = pl.Rey_and_Muller_2010_LithosphericMantle"
   ]
  },
  {
   "cell_type": "markdown",
   "metadata": {},
   "source": [
    "## Passive Tracers\n",
    "\n",
    "We create 2 sets of passive tracers to track the surface and the moho."
   ]
  },
  {
   "cell_type": "code",
   "execution_count": 16,
   "metadata": {},
   "outputs": [],
   "source": [
    "import numpy as np\n",
    "\n",
    "xp = np.linspace(GEO.nd(Model.minCoord[0]), GEO.nd(Model.maxCoord[0]), 100)\n",
    "yp = np.linspace(GEO.nd(Model.minCoord[1]), GEO.nd(Model.maxCoord[1]), 100)\n",
    "\n",
    "xp, yp = np.meshgrid(xp, yp)\n",
    "xp = xp.flatten()\n",
    "yp = yp.flatten()\n",
    "zp = np.zeros(xp.shape)\n",
    "\n",
    "surface_tracers = Model.add_passive_tracers(name=\"Surface\", vertices=[xp, yp, zp])\n",
    "moho_tracers = Model.add_passive_tracers(name=\"Moho\", vertices=[xp, yp, zp+GEO.nd(mantle.top)])"
   ]
  },
  {
   "cell_type": "markdown",
   "metadata": {},
   "source": [
    "## Temperature Boundary Condition\n",
    "\n",
    "Temperature is 293.15K at the top and 1603.15K at the bottom. Temperature is constant in the mantle and the air layers. "
   ]
  },
  {
   "cell_type": "code",
   "execution_count": 17,
   "metadata": {},
   "outputs": [
    {
     "data": {
      "text/plain": [
       "<underworld.conditions._conditions.DirichletCondition at 0x7feaedf8e7b8>"
      ]
     },
     "execution_count": 17,
     "metadata": {},
     "output_type": "execute_result"
    }
   ],
   "source": [
    "Model.set_temperatureBCs(top=293.15 * u.degK, \n",
    "                         bottom=1603.15 * u.degK, \n",
    "                         materials=[(air, 293.15 * u.degK )])"
   ]
  },
  {
   "cell_type": "markdown",
   "metadata": {},
   "source": [
    "## Velocity Boundary Conditions\n",
    "\n",
    "We pull on the left and right side. The back and front wall are freeslip. We use a pseudo isostatic support condition at the bottom."
   ]
  },
  {
   "cell_type": "code",
   "execution_count": 18,
   "metadata": {},
   "outputs": [],
   "source": [
    "velFunc = -Model.y / GEO.nd(Model.maxCoord[1]) * GEO.nd(2.0 * u.centimeter / u.year) + GEO.nd(2.5 * u.centimetre / u.year)"
   ]
  },
  {
   "cell_type": "code",
   "execution_count": 19,
   "metadata": {},
   "outputs": [
    {
     "data": {
      "text/plain": [
       "<underworld.conditions._conditions.DirichletCondition at 0x7feaede66c50>"
      ]
     },
     "execution_count": 19,
     "metadata": {},
     "output_type": "execute_result"
    }
   ],
   "source": [
    "Model.set_velocityBCs(left=[-1.0 * velFunc, None, None],\n",
    "                      right=[velFunc, None, None],\n",
    "                      back=[None, 0., None],\n",
    "                      front=[None, 0., None],\n",
    "                      bottom=GEO.LecodeIsostasy(reference_mat=mantle,\n",
    "                                                average=True))"
   ]
  },
  {
   "cell_type": "markdown",
   "metadata": {},
   "source": [
    "## Initial Plastic Strain\n",
    "\n",
    "An ellipsoidal shape with random damage is used to seed plastic deformation."
   ]
  },
  {
   "cell_type": "code",
   "execution_count": 20,
   "metadata": {},
   "outputs": [],
   "source": [
    "import numpy as np\n",
    "\n",
    "def gaussian(xx, centre, width):\n",
    "    return ( np.exp( -(xx - centre)**2 / width**2 ))\n",
    "\n",
    "maxDamage = 0.1\n",
    "Model.plasticStrain.data[:] = maxDamage * np.random.rand(*Model.plasticStrain.data.shape[:])\n",
    "Model.plasticStrain.data[:,0] *= gaussian(Model.swarm.particleCoordinates.data[:,0], (GEO.nd(Model.maxCoord[0] - Model.minCoord[0])) / 2.0, GEO.nd(20.0 * u.kilometer))\n",
    "Model.plasticStrain.data[:,0] *= gaussian(Model.swarm.particleCoordinates.data[:,2], GEO.nd(-35. * u.kilometer) , GEO.nd(20.0 * u.kilometer))"
   ]
  },
  {
   "cell_type": "code",
   "execution_count": 21,
   "metadata": {},
   "outputs": [],
   "source": [
    "import underworld.function as fn\n",
    "\n",
    "def post_hook():\n",
    "    coords = fn.input()\n",
    "    zz = coords[0] / (GEO.nd(Model.maxCoord[0]) - GEO.nd(Model.minCoord[0]))\n",
    "    fact = fn.math.pow(fn.math.tanh(zz*20.0) + fn.math.tanh((1.0-zz)*20.0) - fn.math.tanh(20.0), 4)\n",
    "    Model.plasticStrain.data[:] = Model.plasticStrain.data[:] * fact.evaluate(Model.swarm)"
   ]
  },
  {
   "cell_type": "code",
   "execution_count": 23,
   "metadata": {},
   "outputs": [],
   "source": [
    "Model.post_solve_functions[\"Plastic_strain_border\"] = post_hook"
   ]
  },
  {
   "cell_type": "markdown",
   "metadata": {},
   "source": [
    "## Solver, Model init"
   ]
  },
  {
   "cell_type": "code",
   "execution_count": 24,
   "metadata": {},
   "outputs": [],
   "source": [
    "GEO.rcParams[\"advection.diffusion.method\"] = \"SLCN\"\n",
    "GEO.rcParams[\"initial.nonlinear.tolerance\"] = 5e-2\n",
    "GEO.rcParams[\"nonlinear.tolerance\"] = 3e-2\n",
    "GEO.rcParams[\"popcontrol.particles.per.cell.3D\"] = 60\n",
    "GEO.rcParams[\"swarm.particles.per.cell.3D\"] = 60\n",
    "#Model.solver.set_penalty(1.0)"
   ]
  },
  {
   "cell_type": "code",
   "execution_count": 29,
   "metadata": {},
   "outputs": [],
   "source": [
    "Model.init_model()"
   ]
  },
  {
   "cell_type": "code",
   "execution_count": null,
   "metadata": {},
   "outputs": [],
   "source": [
    "Model.run_for(nstep=1, checkpoint_interval=1)"
   ]
  }
 ],
 "metadata": {
  "kernelspec": {
   "display_name": "Python 3",
   "language": "python",
   "name": "python3"
  },
  "language_info": {
   "codemirror_mode": {
    "name": "ipython",
    "version": 3
   },
   "file_extension": ".py",
   "mimetype": "text/x-python",
   "name": "python",
   "nbconvert_exporter": "python",
   "pygments_lexer": "ipython3",
   "version": "3.7.3"
  }
 },
 "nbformat": 4,
 "nbformat_minor": 2
}
